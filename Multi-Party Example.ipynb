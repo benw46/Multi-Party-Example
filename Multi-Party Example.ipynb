{
 "cells": [
  {
   "cell_type": "code",
   "execution_count": 31,
   "metadata": {},
   "outputs": [],
   "source": [
    "import binascii \n",
    "import ecdsa"
   ]
  },
  {
   "cell_type": "markdown",
   "metadata": {},
   "source": [
    "## Alice's Keys and Points"
   ]
  },
  {
   "cell_type": "code",
   "execution_count": 32,
   "metadata": {},
   "outputs": [],
   "source": [
    "SA = 81540234002010035825729753106510916564329514841538783726368470003878544157800\n",
    "# = L3G94y16QSB6Tqrur8Rg6qcQ7WQubhdKKtZ4VZKD46Ku42FsF5bk\n",
    "\n",
    "PA = ecdsa.ellipticcurve.Point(ecdsa.SECP256k1.curve, \\\n",
    "                               58531127591112173705174672957947220428904579380190563902032681547089817804900, \\\n",
    "                               112180174758953453854164819683883387555899801983271212808272725223103101640344, 10)\n",
    "\n",
    "CompPA = '02816771b8ad1dbe26fc322adefd53ca9af5771d82656f06dddadd7ebd318aa064'\n",
    "\n",
    "message = 'Hello world'"
   ]
  },
  {
   "cell_type": "markdown",
   "metadata": {},
   "source": [
    "## Bob's Keys and Points"
   ]
  },
  {
   "cell_type": "code",
   "execution_count": 33,
   "metadata": {},
   "outputs": [],
   "source": [
    "SB = 23339730368342537647016879485774387423818721763299658984110781769414838504018\n",
    "# = Kxx1tm7cuhhH5iUzWqSj13RnZDeEi9bSEjiiEd9rnhuVJ5Z8Huo3\n",
    "\n",
    "PB = ecdsa.ellipticcurve.Point(ecdsa.SECP256k1.curve, \\\n",
    "                               10671137893767326965145001035465680120685847809440016994076542271891991079430, \\\n",
    "                               92255039853340241458166542011470911093987895233568055546499254761087925209430, 10)\n",
    "\n",
    "CompPB = '021797a6671a9cb811ada740e761391c2efe2186bd4e363e1aeb6931bcd0beaa06'"
   ]
  },
  {
   "cell_type": "markdown",
   "metadata": {},
   "source": [
    "## Charlie's Keys and Points"
   ]
  },
  {
   "cell_type": "code",
   "execution_count": 34,
   "metadata": {},
   "outputs": [],
   "source": [
    "SC = 19604546966363504345948514434989414564433960545638122907271979546904571708973\n",
    "# = KxfxrUXSMjJQcb3JgnaaA6MqsrKQ1nBSxvhuigdKRyFiEm6BZDgG\n",
    "\n",
    "PC = ecdsa.ellipticcurve.Point(ecdsa.SECP256k1.curve, \\\n",
    "                               60650801378751831856369186448697049492352593086860468010779747572550299104457, \\\n",
    "                               34835621696986631909597048749467048062767037690835130200819150414373328549789, 10)\n",
    "\n",
    "CompPC = '03861723172e8f50bf4e3b2b70582619a7260b79f040bcb2460ffd1d9053f534c9'"
   ]
  },
  {
   "cell_type": "markdown",
   "metadata": {},
   "source": [
    "## Alice and Bob's Shared Secret"
   ]
  },
  {
   "cell_type": "code",
   "execution_count": 35,
   "metadata": {},
   "outputs": [],
   "source": [
    "SAB = ecdsa.ellipticcurve.Point(ecdsa.SECP256k1.curve, \\\n",
    "                               4009309624301700218748443699104753183438007618618743900707779074902834453983, \\\n",
    "                               98493332005723946664549464278408935815110585451394793064483137921857389484229, 10)\n"
   ]
  },
  {
   "cell_type": "markdown",
   "metadata": {},
   "source": [
    "## Alice and Charlie's Shared Secret"
   ]
  },
  {
   "cell_type": "code",
   "execution_count": 36,
   "metadata": {},
   "outputs": [],
   "source": [
    "SAC = ecdsa.ellipticcurve.Point(ecdsa.SECP256k1.curve, \\\n",
    "                               77974615665953603305591144591629994248584440148500380926002338025795436038361, \\\n",
    "                               50595081209769565893048707353530806821293736752292956249448601285321712208925, 10)\n",
    "\n",
    "nSAC = ecdsa.ellipticcurve.Point(ecdsa.SECP256k1.curve, \\\n",
    "                               77974615665953603305591144591629994248584440148500380926002338025795436038361, \\\n",
    "                               -50595081209769565893048707353530806821293736752292956249448601285321712208925, 10)"
   ]
  },
  {
   "cell_type": "markdown",
   "metadata": {},
   "source": [
    "## Alice calculates and sends $K_{C}$ to Charlie"
   ]
  },
  {
   "cell_type": "code",
   "execution_count": 49,
   "metadata": {},
   "outputs": [
    {
     "name": "stdout",
     "output_type": "stream",
     "text": [
      "KC: \n",
      "(19163525353598121983918008279479834495292346251855768550423383046920492455549,18125509081363370361758311081350863669202952029496906360324381010594589895972)\n"
     ]
    }
   ],
   "source": [
    "KC = (SAB + nSAC) # addition of negative = subtraction of positive\n",
    "print(\"KC: \")\n",
    "print(KC)"
   ]
  },
  {
   "cell_type": "markdown",
   "metadata": {},
   "source": [
    "## Charlie takes $K_{C}$ to compute $K_{C}+S_{AC}=S_{AB}$"
   ]
  },
  {
   "cell_type": "code",
   "execution_count": 57,
   "metadata": {},
   "outputs": [
    {
     "name": "stdout",
     "output_type": "stream",
     "text": [
      "KC: \n",
      "(19163525353598121983918008279479834495292346251855768550423383046920492455549,18125509081363370361758311081350863669202952029496906360324381010594589895972)\n"
     ]
    }
   ],
   "source": [
    "print(\"KC: \")\n",
    "print(KC)\n",
    "KCSAC = KC + SAC"
   ]
  },
  {
   "cell_type": "markdown",
   "metadata": {},
   "source": [
    "## $K_{C}+S_{AC}=S_{AB}$"
   ]
  },
  {
   "cell_type": "code",
   "execution_count": 56,
   "metadata": {},
   "outputs": [
    {
     "name": "stdout",
     "output_type": "stream",
     "text": [
      "KC + SAC:\n",
      "(4009309624301700218748443699104753183438007618618743900707779074902834453983,98493332005723946664549464278408935815110585451394793064483137921857389484229)\n",
      "\n",
      "SAB:\n",
      "(4009309624301700218748443699104753183438007618618743900707779074902834453983,98493332005723946664549464278408935815110585451394793064483137921857389484229)\n"
     ]
    },
    {
     "data": {
      "text/plain": [
       "True"
      ]
     },
     "execution_count": 56,
     "metadata": {},
     "output_type": "execute_result"
    }
   ],
   "source": [
    "print(\"KC + SAC:\")\n",
    "print(KCSAC)\n",
    "\n",
    "print(\"\\nSAB:\")\n",
    "print(SAB)\n",
    "\n",
    "SAB == KCSAC"
   ]
  },
  {
   "cell_type": "code",
   "execution_count": null,
   "metadata": {},
   "outputs": [],
   "source": []
  }
 ],
 "metadata": {
  "kernelspec": {
   "display_name": "Python 3",
   "language": "python",
   "name": "python3"
  },
  "language_info": {
   "codemirror_mode": {
    "name": "ipython",
    "version": 3
   },
   "file_extension": ".py",
   "mimetype": "text/x-python",
   "name": "python",
   "nbconvert_exporter": "python",
   "pygments_lexer": "ipython3",
   "version": "3.7.3"
  }
 },
 "nbformat": 4,
 "nbformat_minor": 2
}
